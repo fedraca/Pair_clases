{
 "cells": [
  {
   "cell_type": "markdown",
   "metadata": {},
   "source": [
    "# Método descripcion: Proporciona una descripción del empleado, incluyendo su nombre, posición en la empresa, y la cantidad de días de vacaciones que le quedan para el año actual. Los pasos para resolver el ejercicio del método descripcion son:"
   ]
  },
  {
   "cell_type": "code",
   "execution_count": 19,
   "metadata": {},
   "outputs": [],
   "source": [
    "import datetime\n",
    "\n",
    "\n",
    "class Empleados: \n",
    "    def __init__(self, nombre, apellidos, edad, posicion, año, vacaciones, herramientas, salario):\n",
    "        self.nombre = nombre\n",
    "        self.apellidos = apellidos \n",
    "        self.edad = edad\n",
    "        self.posicion = posicion\n",
    "        self.año = año\n",
    "        self.vacaciones = vacaciones \n",
    "        self.herramientas = herramientas \n",
    "        self.salario = salario\n",
    "        \n",
    "\n",
    " \n",
    "\n",
    "    def descripcion(self):\n",
    "        return f\"Empleado {self.nombre} {self.apellidos} {self.posicion} {self.vacaciones}\"\n",
    "\n"
   ]
  },
  {
   "cell_type": "code",
   "execution_count": 20,
   "metadata": {},
   "outputs": [
    {
     "ename": "TypeError",
     "evalue": "__init__() missing 1 required positional argument: 'salario'",
     "output_type": "error",
     "traceback": [
      "\u001b[0;31m---------------------------------------------------------------------------\u001b[0m",
      "\u001b[0;31mTypeError\u001b[0m                                 Traceback (most recent call last)",
      "\u001b[0;32m/tmp/ipykernel_66822/1556671556.py\u001b[0m in \u001b[0;36m<module>\u001b[0;34m\u001b[0m\n\u001b[0;32m----> 1\u001b[0;31m \u001b[0mempleado1\u001b[0m \u001b[0;34m=\u001b[0m \u001b[0mEmpleados\u001b[0m\u001b[0;34m(\u001b[0m\u001b[0;34m\"Juana\"\u001b[0m\u001b[0;34m,\u001b[0m \u001b[0;34m\"Perez\"\u001b[0m\u001b[0;34m,\u001b[0m \u001b[0;36m45\u001b[0m\u001b[0;34m,\u001b[0m \u001b[0;34m\"gerente\"\u001b[0m\u001b[0;34m,\u001b[0m \u001b[0;36m2010\u001b[0m\u001b[0;34m,\u001b[0m \u001b[0;36m25\u001b[0m\u001b[0;34m,\u001b[0m \u001b[0;34m[\u001b[0m\u001b[0;34m\"python\"\u001b[0m\u001b[0;34m,\u001b[0m \u001b[0;34m\"Excel\"\u001b[0m\u001b[0;34m,\u001b[0m \u001b[0;34m\"VS\"\u001b[0m\u001b[0;34m]\u001b[0m\u001b[0;34m)\u001b[0m\u001b[0;34m\u001b[0m\u001b[0;34m\u001b[0m\u001b[0m\n\u001b[0m",
      "\u001b[0;31mTypeError\u001b[0m: __init__() missing 1 required positional argument: 'salario'"
     ]
    }
   ],
   "source": [
    "empleado1 = Empleados(\"Juana\", \"Perez\", 45, \"gerente\", 2010, 25, [\"python\", \"Excel\", \"VS\"])"
   ]
  },
  {
   "cell_type": "code",
   "execution_count": null,
   "metadata": {},
   "outputs": [
    {
     "data": {
      "text/plain": [
       "'Empleado Juana Perez gerente 25'"
      ]
     },
     "execution_count": 7,
     "metadata": {},
     "output_type": "execute_result"
    }
   ],
   "source": [
    "empleado1.descripcion()\n"
   ]
  },
  {
   "cell_type": "code",
   "execution_count": null,
   "metadata": {},
   "outputs": [
    {
     "data": {
      "text/plain": [
       "['python', 'Excel', 'VS']"
      ]
     },
     "execution_count": 8,
     "metadata": {},
     "output_type": "execute_result"
    }
   ],
   "source": [
    "\n",
    "\n",
    "empleado1.herramientas()"
   ]
  },
  {
   "cell_type": "markdown",
   "metadata": {},
   "source": [
    "# Método cambiando_posicion: Verifica las herramientas que el empleado tiene en su lista y devuelve un mensaje específico basado en las herramientas. Puede elogiar al empleado si tiene \"Python\" en su lista o sugerirle que deje de usar \"Excel\" y aprenda Python. Los pasos para resolver este ejercicio son:"
   ]
  },
  {
   "cell_type": "code",
   "execution_count": null,
   "metadata": {},
   "outputs": [],
   "source": [
    "def cambiando_posicion (self):\n",
    "\n",
    "        for i in self.herramientas:\n",
    "            if i.lower() == \"excel\":\n",
    "                print(\"Estas usando excel, prueba otra herramienta\")\n",
    "            if i.lower() == \"python\":\n",
    "                print(\"Enhorabuena por usar Python\")\n",
    "        return(self.herramientas)"
   ]
  },
  {
   "cell_type": "markdown",
   "metadata": {},
   "source": [
    "antiguedad"
   ]
  },
  {
   "cell_type": "code",
   "execution_count": null,
   "metadata": {},
   "outputs": [],
   "source": [
    "def calcular_antiguedad (self, mes):\n",
    "        hoy = datetime()\n",
    "        año_actual = today.year\n",
    "        mes_actual = today.month\n",
    "        años_antiguedad = año_actual -self.año\n",
    "        meses_antiguedad = mes_actual - mes\n",
    "        antiguedad_en_meses =(años_antiguedad *12) + meses_antiguedad\n",
    "        \n",
    "        return(f\"la antigueda de {self.nombre} {self.apellidos} es {int(antiguedad_en_meses / 12)} años y {int(antiguedad_en_meses % 12)} meses\")\n"
   ]
  },
  {
   "cell_type": "markdown",
   "metadata": {},
   "source": [
    "solicitar aumento de vacaciones "
   ]
  },
  {
   "cell_type": "code",
   "execution_count": null,
   "metadata": {},
   "outputs": [],
   "source": [
    "def solicitar_aumento_vacaciones (self, dias_solicitados):\n",
    "        if dias_solicitados > 0:\n",
    "            self.vacaciones_disponibles += dias_solicitados\n",
    "            return(f\"te quedan {self.vacaciones_disponibles} dias de vacaciones\")\n",
    "        else:\n",
    "            return(\"Error. Los dias solicitados deben ser mayores a 0\")"
   ]
  },
  {
   "cell_type": "markdown",
   "metadata": {},
   "source": [
    "Registrar nueva herramienta Permite al empleado registrar una nueva herramienta en su lista de habilidades. La herramienta se registra si no está registrada previamente en la lista de herramientas del empleado. Recibirá un parámetro que será la nueva herramienta."
   ]
  },
  {
   "cell_type": "code",
   "execution_count": null,
   "metadata": {},
   "outputs": [],
   "source": [
    "def registrar_herramienta (self, nueva_herramienta):\n",
    "        if nueva_herramienta.title() not in self.herramientas:\n",
    "            self.herramientas.append(nueva_herramienta.title())\n",
    "            return (f\"La nueva herramienta {nueva_herramienta.title()} se ha añadido correctamente. Tu lista de herramientas aactualizada  es {self.herramientas}\")\n",
    "        else:\n",
    "            return(\"Esta herramienta ya esta en tu lista\")"
   ]
  }
 ],
 "metadata": {
  "kernelspec": {
   "display_name": "Python 3",
   "language": "python",
   "name": "python3"
  },
  "language_info": {
   "codemirror_mode": {
    "name": "ipython",
    "version": 3
   },
   "file_extension": ".py",
   "mimetype": "text/x-python",
   "name": "python",
   "nbconvert_exporter": "python",
   "pygments_lexer": "ipython3",
   "version": "3.9.7"
  }
 },
 "nbformat": 4,
 "nbformat_minor": 2
}
