{
 "cells": [
  {
   "cell_type": "code",
   "execution_count": 1,
   "metadata": {},
   "outputs": [],
   "source": [
    "# 1. Calcular el área de un círculo.\n",
    "# Descripción: Crea una función llamada calcular_area_circulo que tome el radio como parámetro y\n",
    "#  devuelva el área del círculo.\n",
    "# NOTA: Os dejamos aquí un link para recordar comose calculaba el área de un círculo."
   ]
  },
  {
   "cell_type": "code",
   "execution_count": 2,
   "metadata": {},
   "outputs": [],
   "source": [
    "# A = 3.14 * r2"
   ]
  },
  {
   "cell_type": "code",
   "execution_count": 3,
   "metadata": {},
   "outputs": [
    {
     "data": {
      "text/plain": [
       "3.141592653589793"
      ]
     },
     "execution_count": 3,
     "metadata": {},
     "output_type": "execute_result"
    }
   ],
   "source": [
    "import math\n",
    "math.pi"
   ]
  },
  {
   "cell_type": "code",
   "execution_count": 4,
   "metadata": {},
   "outputs": [],
   "source": [
    "# Método 1\n",
    "def calcular_area_circulo(radio):\n",
    "    area = 3.14 * radio**2\n",
    "    return area\n",
    " "
   ]
  },
  {
   "cell_type": "code",
   "execution_count": 5,
   "metadata": {},
   "outputs": [
    {
     "data": {
      "text/plain": [
       "1661.0600000000002"
      ]
     },
     "execution_count": 5,
     "metadata": {},
     "output_type": "execute_result"
    }
   ],
   "source": [
    "calcular_area_circulo(23)"
   ]
  },
  {
   "cell_type": "code",
   "execution_count": 6,
   "metadata": {},
   "outputs": [],
   "source": [
    "# Con math\n",
    "def calcular_area_circulo(radio):\n",
    "    area = math.pi * radio**2\n",
    "    return area"
   ]
  },
  {
   "cell_type": "code",
   "execution_count": 7,
   "metadata": {},
   "outputs": [
    {
     "data": {
      "text/plain": [
       "1661.9025137490005"
      ]
     },
     "execution_count": 7,
     "metadata": {},
     "output_type": "execute_result"
    }
   ],
   "source": [
    "calcular_area_circulo(23)"
   ]
  },
  {
   "cell_type": "code",
   "execution_count": 8,
   "metadata": {},
   "outputs": [
    {
     "name": "stdout",
     "output_type": "stream",
     "text": [
      "El área del círculo es: 1017.8760197630929\n"
     ]
    }
   ],
   "source": [
    "#Creamos variable\n",
    "area_circulo_18 = calcular_area_circulo(18)\n",
    "print('El área del círculo es:' ,area_circulo_18)\n"
   ]
  },
  {
   "cell_type": "code",
   "execution_count": 9,
   "metadata": {},
   "outputs": [
    {
     "name": "stdout",
     "output_type": "stream",
     "text": [
      "El área del círculo es: 1017.88\n"
     ]
    }
   ],
   "source": [
    "radio = float(input(\"Ingresa el radio del círculo: \"))\n",
    "area_circulo = calcular_area_circulo(radio)\n",
    "print(\"El área del círculo es:\", round(area_circulo,2))"
   ]
  },
  {
   "cell_type": "code",
   "execution_count": 10,
   "metadata": {},
   "outputs": [],
   "source": [
    "# 2. Contar la cantidad de caracteres en una cadena.\n",
    "# Crea una función llamada contar_caracteres que tome una cadena como parámetro y devuelva la cantidad de caracteres que contiene."
   ]
  },
  {
   "cell_type": "code",
   "execution_count": 14,
   "metadata": {},
   "outputs": [
    {
     "name": "stdout",
     "output_type": "stream",
     "text": [
      "17\n"
     ]
    }
   ],
   "source": [
    "frase1 = \"Somos unas genias\" \n",
    "def calcular_numero_letras(frase1):\n",
    "    len(frase1)\n",
    "print(len(frase1))"
   ]
  },
  {
   "cell_type": "code",
   "execution_count": 12,
   "metadata": {},
   "outputs": [],
   "source": [
    "# 3. Determinar si una cadena es un palíndromo.\n",
    "#Descripción: Crea una función llamada es_palindromo que tome una cadena como parámetro \n",
    "#y devuelva True si es un palíndromo, o False si no lo es.\n"
   ]
  },
  {
   "cell_type": "code",
   "execution_count": 13,
   "metadata": {},
   "outputs": [],
   "source": [
    "frase2 = \"Yo hago yoga hoy\"\n",
    "def palindrommo(frase2):\n",
    "    inicio = 0\n",
    "    fin = len(frase2) -1\n",
    "    while frase2 [inicio] == frase2 [fin]:\n",
    "        if inicio >= fin:\n",
    "            return True\n",
    "            inicio += 1\n",
    "            fin -=1\n",
    "            return False\n",
    "            \n",
    "    "
   ]
  },
  {
   "cell_type": "markdown",
   "metadata": {},
   "source": [
    "solucion de cesar "
   ]
  },
  {
   "cell_type": "code",
   "execution_count": 15,
   "metadata": {},
   "outputs": [
    {
     "name": "stdout",
     "output_type": "stream",
     "text": [
      "La palabra es un palíndromo.\n"
     ]
    }
   ],
   "source": [
    "def es_palindromo(cadena):\n",
    "    cadena = cadena.lower().replace(\" \", \"\")\n",
    "    return cadena == cadena[::-1]\n",
    "palabra = input(\"Ingresa una palabra: \")\n",
    "if es_palindromo(palabra):\n",
    "    print(\"La palabra es un palíndromo.\")\n",
    "else:\n",
    "    print(\"La palabra no es un palíndromo.\")"
   ]
  },
  {
   "cell_type": "markdown",
   "metadata": {},
   "source": [
    "4. Calcular el promedio de una lista de números.\n",
    "Descripción: Crea una función llamada calcular_promedio que tome una lista de números como parámetro y devuelva el promedio de todos sus elementos."
   ]
  },
  {
   "cell_type": "code",
   "execution_count": 16,
   "metadata": {},
   "outputs": [
    {
     "name": "stdout",
     "output_type": "stream",
     "text": [
      "8.5\n"
     ]
    }
   ],
   "source": [
    "def calcular_promedio (lista_numeros):\n",
    "    promedio = sum(lista_numeros) / len(lista_numeros)\n",
    "    return promedio\n",
    "\n",
    "resultado_promedio = calcular_promedio ([7, 9, 8, 10])\n",
    "print(resultado_promedio)\n"
   ]
  },
  {
   "cell_type": "markdown",
   "metadata": {},
   "source": [
    "5. Calcular el interés compuesto.\n",
    "Descripción: Crea una función llamada calcular_interes_compuesto que tome el capital inicial, la tasa de interés y el número de períodos como parámetros y devuelva el beneficio final después del interés compuesto."
   ]
  },
  {
   "cell_type": "code",
   "execution_count": 17,
   "metadata": {},
   "outputs": [
    {
     "name": "stdout",
     "output_type": "stream",
     "text": [
      "394.06\n"
     ]
    }
   ],
   "source": [
    "def calcular_interes_compuesto (capital, interes, periodo):\n",
    "    capital_final = capital * ((1 + interes) ** periodo)\n",
    "    beneficio_final = capital_final - capital\n",
    "    return round (beneficio_final, 2)\n",
    "\n",
    "ganancia = calcular_interes_compuesto (2500, 0.05, 3)\n",
    "print(ganancia)\n"
   ]
  },
  {
   "cell_type": "markdown",
   "metadata": {},
   "source": [
    "6. Validar si una palabra es un anagrama de otra.\n",
    "Descripción: Crea una función llamada es_anagrama que tome dos palabras como parámetros y devuelva True si una es un anagrama de la otra, o False si no lo es."
   ]
  },
  {
   "cell_type": "code",
   "execution_count": 18,
   "metadata": {},
   "outputs": [
    {
     "name": "stdout",
     "output_type": "stream",
     "text": [
      "Es anagrama: True\n"
     ]
    }
   ],
   "source": [
    "def es_anagrama (palabra1, palabra2):\n",
    "    anagrama = True\n",
    "    for i in palabra1:\n",
    "        for i2 in palabra2:\n",
    "                if (i in palabra2.lower()) and (i2 in palabra1.lower()):\n",
    "                      anagrama = True\n",
    "                else:\n",
    "                        anagrama = False\n",
    "    return f'Es anagrama: {anagrama}'\n",
    "\n",
    "son_anagramas = es_anagrama (\"Amor\", \"Mora\")\n",
    "print(son_anagramas)"
   ]
  },
  {
   "cell_type": "markdown",
   "metadata": {},
   "source": [
    "7. Validar si una cadena de texto es un isograma.\n",
    "Descripción: Crea una función llamada es_isograma que tome una cadena de texto como parámetro y devuelva True si es un isograma. En caso contrario, devuelve False.\n",
    "¿Qué es un isograma? Una palabra que no contiene letras repetidas."
   ]
  },
  {
   "cell_type": "code",
   "execution_count": 19,
   "metadata": {},
   "outputs": [
    {
     "name": "stdout",
     "output_type": "stream",
     "text": [
      " es isograma: True\n"
     ]
    }
   ],
   "source": [
    "def es_isograma(palabra3):\n",
    "    isograma = True\n",
    "    for i in palabra3:\n",
    "        num_letras = palabra3.count(i)\n",
    "        if num_letras ==1:\n",
    "            isograma = True\n",
    "        else: \n",
    "            isograma = False \n",
    "            break\n",
    "    return f\" es isograma: {isograma}\"\n",
    "\n",
    "iso = es_isograma (\"murcielago\")\n",
    "print(iso)"
   ]
  },
  {
   "cell_type": "markdown",
   "metadata": {},
   "source": [
    ". Concatenar múltiples cadenas de texto\n",
    "Descripción: Crea una función llamada concatenar_cadenas que tome una cantidad variable de cadenas de texto como argumentos y devuelva una única cadena que contenga la concatenación de todas las cadenas ingresadas."
   ]
  },
  {
   "cell_type": "code",
   "execution_count": 2,
   "metadata": {},
   "outputs": [
    {
     "data": {
      "text/plain": [
       "'hola'"
      ]
     },
     "execution_count": 2,
     "metadata": {},
     "output_type": "execute_result"
    }
   ],
   "source": [
    "def concatenar (*args):\n",
    "    resultado = \"\"\n",
    "    for texto in args:\n",
    "        resultado += texto \n",
    "        return resultado\n",
    "\n",
    "concatenar (\"hola\", \"como\", \"estas\")\n"
   ]
  }
 ],
 "metadata": {
  "kernelspec": {
   "display_name": "base",
   "language": "python",
   "name": "python3"
  },
  "language_info": {
   "codemirror_mode": {
    "name": "ipython",
    "version": 3
   },
   "file_extension": ".py",
   "mimetype": "text/x-python",
   "name": "python",
   "nbconvert_exporter": "python",
   "pygments_lexer": "ipython3",
   "version": "3.9.7"
  }
 },
 "nbformat": 4,
 "nbformat_minor": 2
}
